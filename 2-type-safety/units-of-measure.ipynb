{
 "cells": [
  {
   "cell_type": "markdown",
   "metadata": {},
   "source": [
    "# Units of Measure"
   ]
  },
  {
   "cell_type": "code",
   "execution_count": null,
   "metadata": {
    "dotnet_interactive": {
     "language": "fsharp"
    },
    "polyglot_notebook": {
     "kernelName": "fsharp"
    }
   },
   "outputs": [],
   "source": [
    "open System\n",
    "open FSharp.Data.UnitSystems.SI\n",
    "open FSharp.Data.UnitSystems.SI.UnitSymbols"
   ]
  },
  {
   "cell_type": "code",
   "execution_count": null,
   "metadata": {
    "dotnet_interactive": {
     "language": "fsharp"
    },
    "polyglot_notebook": {
     "kernelName": "fsharp"
    }
   },
   "outputs": [],
   "source": [
    "let len = 1.0<m>\n",
    "let speed = 55.0<m/s>\n",
    "printfn $\"len: {len}, speed: {speed}\""
   ]
  },
  {
   "cell_type": "markdown",
   "metadata": {},
   "source": [
    "So obviously, **you cannot add two different units together**."
   ]
  },
  {
   "cell_type": "code",
   "execution_count": null,
   "metadata": {
    "dotnet_interactive": {
     "language": "fsharp"
    },
    "polyglot_notebook": {
     "kernelName": "fsharp"
    }
   },
   "outputs": [],
   "source": [
    "let unknown = len + speed"
   ]
  },
  {
   "cell_type": "markdown",
   "metadata": {},
   "source": [
    "## Units at Runtime\n",
    "\n",
    "Units of measure are used for **static type** checking. When floating point values are compiled, the units of measure are eliminated, so the units are lost at run time. Therefore, any attempt to implement functionality **that depends on checking the units at run time is not possible**. For example, *implementing a ToString function to print out the units is not possible*."
   ]
  },
  {
   "cell_type": "markdown",
   "metadata": {},
   "source": [
    "### We can create our own units"
   ]
  },
  {
   "cell_type": "code",
   "execution_count": null,
   "metadata": {
    "dotnet_interactive": {
     "language": "fsharp"
    },
    "polyglot_notebook": {
     "kernelName": "fsharp"
    }
   },
   "outputs": [],
   "source": [
    "[<Measure>] type degC // temperature, Celsius/Centigrade\n",
    "[<Measure>] type degF // temperature, Fahrenheit\n",
    "\n",
    "let convertCtoF ( temp : float<degC> ) = 9.0<degF> / 5.0<degC> * temp + 32.0<degF>\n",
    "let convertFtoC ( temp: float<degF> ) = 5.0<degC> / 9.0<degF> * ( temp - 32.0<degF>)\n",
    "\n",
    "// Define conversion functions from dimensionless floating point values.\n",
    "let degreesFahrenheit temp = temp * 1.0<degF>\n",
    "let degreesCelsius temp = temp * 1.0<degC>"
   ]
  },
  {
   "cell_type": "code",
   "execution_count": null,
   "metadata": {
    "dotnet_interactive": {
     "language": "fsharp"
    },
    "polyglot_notebook": {
     "kernelName": "fsharp"
    }
   },
   "outputs": [],
   "source": [
    "let convertAndPrintTemperatures (tempInF: string) =\n",
    "    let parsedOk, floatValue = Double.TryParse(tempInF)\n",
    " \n",
    "    if parsedOk\n",
    "    then\n",
    "        let tempInC = ((convertFtoC (degreesFahrenheit floatValue))/(1.0<degC>))\n",
    "        printfn \"%4.2f degrees F is %4.2f degrees C.\" floatValue tempInC\n",
    "    else\n",
    "        printfn \"Error parsing input.\""
   ]
  },
  {
   "cell_type": "code",
   "execution_count": null,
   "metadata": {
    "dotnet_interactive": {
     "language": "fsharp"
    },
    "polyglot_notebook": {
     "kernelName": "fsharp"
    }
   },
   "outputs": [],
   "source": [
    "convertAndPrintTemperatures \"32\"\n",
    "convertAndPrintTemperatures \"98.4\""
   ]
  }
 ],
 "metadata": {
  "kernelspec": {
   "display_name": ".NET (C#)",
   "language": "C#",
   "name": ".net-csharp"
  },
  "polyglot_notebook": {
   "kernelInfo": {
    "defaultKernelName": "csharp",
    "items": [
     {
      "aliases": [],
      "name": "csharp"
     },
     {
      "aliases": [],
      "languageName": "fsharp",
      "name": "fsharp"
     }
    ]
   }
  }
 },
 "nbformat": 4,
 "nbformat_minor": 2
}
