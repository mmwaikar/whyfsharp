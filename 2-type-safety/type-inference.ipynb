{
 "cells": [
  {
   "cell_type": "markdown",
   "metadata": {},
   "source": [
    "* F# has powerful type inference, because of which the compiler is able to **infer the type of method arguments and the return type of a method**.\n",
    "* Consequently, we can write code as we do with dynamic languages, without having to worry about types, but getting full type safety."
   ]
  },
  {
   "cell_type": "code",
   "execution_count": 3,
   "metadata": {
    "dotnet_interactive": {
     "language": "fsharp"
    },
    "polyglot_notebook": {
     "kernelName": "fsharp"
    }
   },
   "outputs": [],
   "source": [
    "let sum a b = a + b"
   ]
  },
  {
   "cell_type": "markdown",
   "metadata": {},
   "source": [
    "**So as you can see above -**\n",
    "1. No semicolons\n",
    "2. No return keyword\n",
    "3. No need to specify the type of function parameters\n",
    "4. No need to specify the return type\n",
    "\n",
    "The type signature of the above method is inferred to be as `int -> int -> int`, hence the below statement does not compile."
   ]
  },
  {
   "cell_type": "code",
   "execution_count": null,
   "metadata": {
    "dotnet_interactive": {
     "language": "fsharp"
    },
    "polyglot_notebook": {
     "kernelName": "fsharp"
    }
   },
   "outputs": [],
   "source": [
    "let five = sum 2.0 3"
   ]
  },
  {
   "cell_type": "markdown",
   "metadata": {},
   "source": [
    "If we want, we can explicitly specify the type for **one or more** of the arguments."
   ]
  },
  {
   "cell_type": "code",
   "execution_count": 1,
   "metadata": {
    "dotnet_interactive": {
     "language": "fsharp"
    },
    "polyglot_notebook": {
     "kernelName": "fsharp"
    }
   },
   "outputs": [],
   "source": [
    "let sumD a (b: double) = a + b\n",
    "let sumS (a: string) b = a + b"
   ]
  },
  {
   "cell_type": "markdown",
   "metadata": {},
   "source": [
    "Now we can add two doubles or strings."
   ]
  },
  {
   "cell_type": "code",
   "execution_count": null,
   "metadata": {
    "dotnet_interactive": {
     "language": "fsharp"
    },
    "polyglot_notebook": {
     "kernelName": "fsharp"
    }
   },
   "outputs": [],
   "source": [
    "let fiveD = sumD 2.0 3\n",
    "let helloWorld = sumS \"hello \" \"world\"\n",
    "printfn $\"sum of doubles: {fiveD}, and of strings: {helloWorld}\" "
   ]
  },
  {
   "cell_type": "markdown",
   "metadata": {},
   "source": [
    "#### You might think that there are a limited number of in-built types, so what happens to user-defined types?"
   ]
  },
  {
   "cell_type": "code",
   "execution_count": 11,
   "metadata": {
    "dotnet_interactive": {
     "language": "fsharp"
    },
    "polyglot_notebook": {
     "kernelName": "fsharp"
    }
   },
   "outputs": [],
   "source": [
    "type Patient = {name: string; age: int; disease: string}\n",
    "type Person = {name: string; age: int}"
   ]
  },
  {
   "cell_type": "code",
   "execution_count": null,
   "metadata": {
    "dotnet_interactive": {
     "language": "fsharp"
    },
    "polyglot_notebook": {
     "kernelName": "fsharp"
    }
   },
   "outputs": [],
   "source": [
    "let helloPreferablyPerson p =\n",
    "    printfn $\"Hello, {p.name}, {p.age}\"\n",
    "\n",
    "let helloPreferablyPatient p =\n",
    "    printfn $\"Hello, {p.name}, {p.age}, {p.disease}\""
   ]
  },
  {
   "cell_type": "markdown",
   "metadata": {},
   "source": [
    "*As you can see, the above code compiles depending on the order in which the compiler encounters various types.* So, in cases, **where the compiler is not able to infer types, we'll need to give it a helping hand.** 🩼"
   ]
  },
  {
   "cell_type": "markdown",
   "metadata": {},
   "source": [
    "### Function Parameters"
   ]
  },
  {
   "cell_type": "markdown",
   "metadata": {},
   "source": [
    "You might have noticed above (in our definition of the `sum` function) how function parameters are declared in F#. **In most other languages the parameters are specified as a tuple.** *We can do so in F# too, but that is not idiomatic*."
   ]
  },
  {
   "cell_type": "code",
   "execution_count": null,
   "metadata": {
    "dotnet_interactive": {
     "language": "fsharp"
    },
    "polyglot_notebook": {
     "kernelName": "fsharp"
    }
   },
   "outputs": [],
   "source": [
    "let unidiomaticSum (a, b) = a + b\n",
    "let uiFive = unidiomaticSum (2, 3)\n",
    "printfn $\"unidiomatic F# method returned {uiFive}\""
   ]
  },
  {
   "cell_type": "markdown",
   "metadata": {},
   "source": [
    "***An interesting side-effect of the above is that we get currying for free.***"
   ]
  },
  {
   "cell_type": "markdown",
   "metadata": {},
   "source": [
    "### Currying"
   ]
  },
  {
   "cell_type": "markdown",
   "metadata": {},
   "source": [
    "Every function is by default curried, which means, that if you specify less than the required number of arguments, then you get a function with those many less arguments (as you've specified)."
   ]
  },
  {
   "cell_type": "code",
   "execution_count": 4,
   "metadata": {
    "dotnet_interactive": {
     "language": "fsharp"
    },
    "polyglot_notebook": {
     "kernelName": "fsharp"
    }
   },
   "outputs": [],
   "source": [
    "let add2 = sum 2"
   ]
  },
  {
   "cell_type": "markdown",
   "metadata": {},
   "source": [
    "The type signature of **add2** is `int -> int`, so now we can have *2 added to any number we pass to add2*."
   ]
  },
  {
   "cell_type": "code",
   "execution_count": null,
   "metadata": {
    "dotnet_interactive": {
     "language": "fsharp"
    },
    "polyglot_notebook": {
     "kernelName": "fsharp"
    }
   },
   "outputs": [],
   "source": [
    "let six = add2 4"
   ]
  },
  {
   "cell_type": "markdown",
   "metadata": {},
   "source": [
    "So, in short, **the compiler gets out of your way**, and you get the best of both worlds - *you can write code as if you are working in a dynamic language; without having to worry about types*, and only adding types when required, **but getting full compile time type-safety**."
   ]
  }
 ],
 "metadata": {
  "kernelspec": {
   "display_name": ".NET (F#)",
   "language": "F#",
   "name": ".net-fsharp"
  },
  "language_info": {
   "name": "polyglot-notebook"
  },
  "polyglot_notebook": {
   "kernelInfo": {
    "defaultKernelName": "fsharp",
    "items": [
     {
      "aliases": [],
      "languageName": "fsharp",
      "name": "fsharp"
     }
    ]
   }
  }
 },
 "nbformat": 4,
 "nbformat_minor": 2
}
