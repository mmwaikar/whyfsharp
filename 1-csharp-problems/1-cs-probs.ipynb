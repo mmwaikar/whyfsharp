{
 "cells": [
  {
   "cell_type": "markdown",
   "metadata": {},
   "source": [
    "# Problems with C#"
   ]
  },
  {
   "cell_type": "markdown",
   "metadata": {},
   "source": [
    "- Older languages have no REPL (though you can use [dotnet-repl](https://github.com/jonsequitur/dotnet-repl))\n",
    "- **C# (and Java) are built with wrong defaults**"
   ]
  },
  {
   "cell_type": "markdown",
   "metadata": {},
   "source": [
    "| Wrong (C#, Java) | Right (Clojure, F#, Scala) |\n",
    "|------------------|----------------------------|\n",
    "| Reference Equality | Value Equality |\n",
    "| Mutable collections | Immutable collections |"
   ]
  },
  {
   "cell_type": "markdown",
   "metadata": {},
   "source": [
    "### So let's see some code in action"
   ]
  },
  {
   "cell_type": "code",
   "execution_count": 1,
   "metadata": {
    "dotnet_interactive": {
     "language": "csharp"
    },
    "polyglot_notebook": {
     "kernelName": "csharp"
    }
   },
   "outputs": [],
   "source": [
    "using static System.Console;"
   ]
  },
  {
   "cell_type": "code",
   "execution_count": 4,
   "metadata": {
    "dotnet_interactive": {
     "language": "csharp"
    },
    "polyglot_notebook": {
     "kernelName": "csharp"
    }
   },
   "outputs": [
    {
     "name": "stdout",
     "output_type": "stream",
     "text": [
      "e1: Submission#5+Emp\n",
      "e1 == e2: False\n"
     ]
    }
   ],
   "source": [
    "public class Emp \n",
    "{\n",
    "    public string Name { get; set; }\n",
    "    public int Age { get; set; }\n",
    "}\n",
    "\n",
    "var e1 = new Emp { Name = \"Abc\", Age = 10 };\n",
    "var e2 = new Emp { Name = \"Abc\", Age = 10 };\n",
    "\n",
    "WriteLine($\"e1: {e1}\");\n",
    "WriteLine($\"e1 == e2: {e1 == e2}\");"
   ]
  },
  {
   "cell_type": "markdown",
   "metadata": {},
   "source": [
    "- No default ToString implementation\n",
    "- Can't compare 2 instances based on values"
   ]
  },
  {
   "cell_type": "markdown",
   "metadata": {},
   "source": [
    "### Same problem with a list of values"
   ]
  },
  {
   "cell_type": "code",
   "execution_count": 7,
   "metadata": {
    "dotnet_interactive": {
     "language": "csharp"
    },
    "polyglot_notebook": {
     "kernelName": "csharp"
    }
   },
   "outputs": [
    {
     "name": "stdout",
     "output_type": "stream",
     "text": [
      "are two lists equal (==): False\n",
      "are two lists equal (.Equals()): False\n"
     ]
    }
   ],
   "source": [
    "List<Emp> listEmps = new() {e1, e2};\n",
    "List<Emp> anotherList = new() {e1, e2};\n",
    "\n",
    "WriteLine($\"are two lists equal (==): {listEmps == anotherList}\");\n",
    "WriteLine($\"are two lists equal (.Equals()): {listEmps.Equals(anotherList)}\");"
   ]
  },
  {
   "cell_type": "markdown",
   "metadata": {},
   "source": [
    "### And God forbid, if you have to deal with a list of values and search through them etc.\n",
    "\n",
    "*In the below code, although e2 is same as e1, it is not found in the list*"
   ]
  },
  {
   "cell_type": "code",
   "execution_count": 8,
   "metadata": {
    "dotnet_interactive": {
     "language": "csharp"
    },
    "polyglot_notebook": {
     "kernelName": "csharp"
    }
   },
   "outputs": [
    {
     "name": "stdout",
     "output_type": "stream",
     "text": [
      "contains should be True, but is: False\r\n"
     ]
    }
   ],
   "source": [
    "var e3 = new Emp { Name = \"Def\", Age = 20 };\n",
    "var e4 = new Emp { Name = \"Ghi\", Age = 30 };\n",
    "List<Emp> empList = new() {e1, e3, e4};\n",
    "\n",
    "var contains = empList.Contains(e2);\n",
    "WriteLine($\"contains should be True, but is: {contains}\");"
   ]
  },
  {
   "cell_type": "markdown",
   "metadata": {},
   "source": [
    "## And who remembers, IEquatable, IEquatable`<T`>? Or even wants to remember those?"
   ]
  }
 ],
 "metadata": {
  "kernelspec": {
   "display_name": ".NET (C#)",
   "language": "C#",
   "name": ".net-csharp"
  },
  "language_info": {
   "name": "polyglot-notebook"
  },
  "polyglot_notebook": {
   "kernelInfo": {
    "defaultKernelName": "csharp",
    "items": [
     {
      "aliases": [],
      "languageName": "csharp",
      "name": "csharp"
     }
    ]
   }
  }
 },
 "nbformat": 4,
 "nbformat_minor": 2
}
