{
 "cells": [
  {
   "cell_type": "markdown",
   "metadata": {},
   "source": [
    "# Are you OK with this in 2025?"
   ]
  },
  {
   "cell_type": "code",
   "execution_count": 18,
   "metadata": {
    "polyglot_notebook": {
     "kernelName": "csharp"
    }
   },
   "outputs": [],
   "source": [
    "using static System.Console;\n",
    "using System.Collections.Generic;"
   ]
  },
  {
   "cell_type": "markdown",
   "metadata": {},
   "source": [
    "### Q1. Can you display (class) objects?"
   ]
  },
  {
   "cell_type": "code",
   "execution_count": 19,
   "metadata": {
    "polyglot_notebook": {
     "kernelName": "csharp"
    }
   },
   "outputs": [
    {
     "name": "stdout",
     "output_type": "stream",
     "text": [
      "e1: Submission#19+Emp\r\n"
     ]
    }
   ],
   "source": [
    "public class Emp \n",
    "{\n",
    "    public string Name { get; set; }\n",
    "    public int Age { get; set; }\n",
    "}\n",
    "\n",
    "var e1 = new Emp { Name = \"Abc\", Age = 10 };\n",
    "WriteLine($\"e1: {e1}\");"
   ]
  },
  {
   "cell_type": "markdown",
   "metadata": {},
   "source": [
    "### Oh come on 😦"
   ]
  },
  {
   "cell_type": "markdown",
   "metadata": {},
   "source": [
    "### A1. But we have records in C# now 👋"
   ]
  },
  {
   "cell_type": "code",
   "execution_count": 20,
   "metadata": {
    "polyglot_notebook": {
     "kernelName": "csharp"
    }
   },
   "outputs": [
    {
     "name": "stdout",
     "output_type": "stream",
     "text": [
      "p1: Person { Name = Abc, Age = 10, addresses = System.String[] }\r\n"
     ]
    }
   ],
   "source": [
    "public record Person(string Name, int Age, string[] addresses);\n",
    "\n",
    "var addresses1 = new [] { \"abc\", \"def\" };\n",
    "var p1 = new Person(\"Abc\", 10, addresses1);\n",
    "\n",
    "WriteLine($\"p1: {p1}\");"
   ]
  },
  {
   "cell_type": "markdown",
   "metadata": {},
   "source": [
    "### Oops, sorry 😬, the implementation is broken (for the older C# features)!"
   ]
  },
  {
   "cell_type": "markdown",
   "metadata": {},
   "source": [
    "### Q2. Can you compare (class) objects?"
   ]
  },
  {
   "cell_type": "code",
   "execution_count": 21,
   "metadata": {
    "polyglot_notebook": {
     "kernelName": "csharp"
    }
   },
   "outputs": [
    {
     "name": "stdout",
     "output_type": "stream",
     "text": [
      "e1 == e1Same (when data is same): False\r\n"
     ]
    }
   ],
   "source": [
    "// e1Same has the exact same values as e1\n",
    "var e1Same = new Emp { Name = \"Abc\", Age = 10 };\n",
    "WriteLine($\"e1 == e1Same (when data is same): {e1 == e1Same}\");"
   ]
  },
  {
   "cell_type": "markdown",
   "metadata": {},
   "source": [
    "### What is this? 😞"
   ]
  },
  {
   "cell_type": "markdown",
   "metadata": {},
   "source": [
    "### A2. But we have records in C# now 😃"
   ]
  },
  {
   "cell_type": "code",
   "execution_count": 22,
   "metadata": {
    "polyglot_notebook": {
     "kernelName": "csharp"
    }
   },
   "outputs": [
    {
     "name": "stdout",
     "output_type": "stream",
     "text": [
      "p1 == p2 (when data is the same, even for addresses): False\r\n"
     ]
    }
   ],
   "source": [
    "// addresses2 has the exact same values as addresses1\n",
    "var addresses2 = new [] { \"abc\", \"def\" };\n",
    "\n",
    "// p2 has the exact same values as p1\n",
    "var p2 = new Person(\"Abc\", 10, addresses2);\n",
    "\n",
    "WriteLine($\"p1 == p2 (when data is the same, even for addresses): {p1 == p2}\");"
   ]
  },
  {
   "cell_type": "markdown",
   "metadata": {},
   "source": [
    "### I warned you before ⚠️"
   ]
  },
  {
   "cell_type": "markdown",
   "metadata": {},
   "source": [
    "### Q3. How does the difference in behavior for data equality affect the set inclusion behavior?"
   ]
  },
  {
   "cell_type": "markdown",
   "metadata": {},
   "source": [
    "#### Let's observe the behavior for an integer set"
   ]
  },
  {
   "cell_type": "code",
   "execution_count": 23,
   "metadata": {
    "polyglot_notebook": {
     "kernelName": "csharp"
    }
   },
   "outputs": [
    {
     "name": "stdout",
     "output_type": "stream",
     "text": [
      "one is in the integer set: True\n",
      "anotherOne is in the integer set: True\n"
     ]
    }
   ],
   "source": [
    "var one = 1;\n",
    "var anotherOne = 1;\n",
    "var intSet = new HashSet<int> {one, 2, 3, 4, 5};\n",
    "\n",
    "var containsOne = intSet.Contains(one);\n",
    "WriteLine($\"one is in the integer set: {containsOne}\");\n",
    "\n",
    "var containsAnotherOne = intSet.Contains(anotherOne);\n",
    "WriteLine($\"anotherOne is in the integer set: {containsAnotherOne}\");"
   ]
  },
  {
   "cell_type": "markdown",
   "metadata": {},
   "source": [
    "#### Now let's observe the similar behavior for a set of employees"
   ]
  },
  {
   "cell_type": "code",
   "execution_count": 24,
   "metadata": {
    "polyglot_notebook": {
     "kernelName": "csharp"
    }
   },
   "outputs": [
    {
     "name": "stdout",
     "output_type": "stream",
     "text": [
      "e1 is in the emp set: True\n",
      "e6 is in the emp set: False\n"
     ]
    }
   ],
   "source": [
    "var e2 = new Emp { Name = \"Def\", Age = 20 };\n",
    "var e3 = new Emp { Name = \"Ghi\", Age = 30 };\n",
    "var e4 = new Emp { Name = \"Jkl\", Age = 40 };\n",
    "var e5 = new Emp { Name = \"Mno\", Age = 50 };\n",
    "\n",
    "var empSet = new HashSet<Emp> { e1, e2, e3, e4, e5 };\n",
    "var containsE1 = empSet.Contains(e1);\n",
    "WriteLine($\"e1 is in the emp set: {containsE1}\");\n",
    "\n",
    "// e6 has the exact same values as e1\n",
    "var e6 = new Emp { Name = \"Abc\", Age = 10 };\n",
    "\n",
    "var containsE6 = empSet.Contains(e6);\n",
    "WriteLine($\"e6 is in the emp set: {containsE6}\");"
   ]
  },
  {
   "cell_type": "markdown",
   "metadata": {
    "polyglot_notebook": {
     "kernelName": "csharp"
    }
   },
   "source": [
    "### Why do the 2 sets behave differently? And, is this a problem?\n",
    "\n",
    "Yes, because the **more important** part is the **value equality**, and not the *reference equality*.\n",
    "\n",
    "For example, suppose you have inserted employee data from your Microsoft Active Directory (AD) into the database (for whatever reason), and at a future point in time, you again want to sync the database with the current data from the AD, you need the ability to **compare values** and *not references*."
   ]
  },
  {
   "cell_type": "markdown",
   "metadata": {},
   "source": [
    "### A3. As you've seen above, C# records fail to display correctly (ToString) and also fail the value equality (Equals) when the data contains a collection (array, list) of values using the older data structures (i.e. C# generic collections)."
   ]
  },
  {
   "cell_type": "markdown",
   "metadata": {},
   "source": [
    "## The conclusion: to avoid all the above problems, please use [F#](https://fsharp.org/)."
   ]
  },
  {
   "cell_type": "markdown",
   "metadata": {},
   "source": [
    "### Q4. OK, so one final doubt - do I have to replace every single line of C# code with F#?"
   ]
  },
  {
   "cell_type": "markdown",
   "metadata": {},
   "source": [
    "### A4. *No, that is not possible*, but please start using F#, at least for the business logic."
   ]
  },
  {
   "cell_type": "markdown",
   "metadata": {},
   "source": [
    "### Q5. So, is C# useless then?"
   ]
  },
  {
   "cell_type": "markdown",
   "metadata": {},
   "source": [
    "### A5. *Again, no!* Keep using it for user interfaces and interacting with databases (Entity Framework etc.). This is what is called the `Imperative <-> Functional (core) <-> Imperative` (or the `OO <-> FP <-> OO`) sandwich."
   ]
  },
  {
   "cell_type": "markdown",
   "metadata": {},
   "source": [
    "## And, since you are already using C#, please go full-stack C# and start using either [Avalonia UI](https://avaloniaui.net/) or [Uno Platform](https://platform.uno/) or [Blazor](https://dotnet.microsoft.com/en-us/apps/aspnet/web-apps/blazor) for the UI layer, instead of Angular, React or any other JS / TS framework. If for any **unavoidable reason**, you have to stick to a JS / TS framework, go with either [Solid JS](https://www.solidjs.com/) or [Svelte](https://svelte.dev/)."
   ]
  },
  {
   "cell_type": "markdown",
   "metadata": {},
   "source": [
    "## One final piece of advice - if you are planning to adopt a new language, let it be [Rust](https://www.rust-lang.org/) because you can go fullstack with it without any JS / TS handicap, in addition to all the other reasons, why Rust is hot."
   ]
  }
 ],
 "metadata": {
  "kernelspec": {
   "display_name": ".NET (C#)",
   "language": "C#",
   "name": ".net-csharp"
  },
  "polyglot_notebook": {
   "kernelInfo": {
    "defaultKernelName": "csharp",
    "items": [
     {
      "aliases": [],
      "languageName": "csharp",
      "name": "csharp"
     }
    ]
   }
  }
 },
 "nbformat": 4,
 "nbformat_minor": 2
}
