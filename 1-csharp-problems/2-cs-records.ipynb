{
 "cells": [
  {
   "cell_type": "markdown",
   "metadata": {},
   "source": [
    "## So why not use Records?"
   ]
  },
  {
   "cell_type": "code",
   "execution_count": 5,
   "metadata": {
    "dotnet_interactive": {
     "language": "csharp"
    },
    "polyglot_notebook": {
     "kernelName": "csharp"
    }
   },
   "outputs": [],
   "source": [
    "using static System.Console;"
   ]
  },
  {
   "cell_type": "code",
   "execution_count": 6,
   "metadata": {
    "dotnet_interactive": {
     "language": "csharp"
    },
    "polyglot_notebook": {
     "kernelName": "csharp"
    }
   },
   "outputs": [
    {
     "name": "stdout",
     "output_type": "stream",
     "text": [
      "e1: Emp { Name = Abc, Age = 10 }\n",
      "e1 == e2: True\n"
     ]
    }
   ],
   "source": [
    "public record Emp(string Name, int Age);\n",
    "\n",
    "var e1 = new Emp(\"Abc\", 10);\n",
    "var e2 = new Emp(\"Abc\", 10);\n",
    "\n",
    "WriteLine($\"e1: {e1}\");\n",
    "WriteLine($\"e1 == e2: {e1 == e2}\");"
   ]
  },
  {
   "cell_type": "markdown",
   "metadata": {},
   "source": [
    "### OK, so what about this?"
   ]
  },
  {
   "cell_type": "code",
   "execution_count": 7,
   "metadata": {
    "dotnet_interactive": {
     "language": "csharp"
    },
    "polyglot_notebook": {
     "kernelName": "csharp"
    }
   },
   "outputs": [
    {
     "name": "stdout",
     "output_type": "stream",
     "text": [
      "p1: Person { Name = Abc, Age = 10, addresses = System.String[] }, addresses: abc, def\n",
      "p2: Person { Name = Abc, Age = 10, addresses = System.String[] }, addresses: abc, def\n",
      "p1 == p2 (when same data for addresses): False\n",
      "\n",
      "p3: Person { Name = Abc, Age = 10, addresses = System.String[] }, addresses: def, ghi\n",
      "p1 == p3 (when different data for addresses): False\n"
     ]
    }
   ],
   "source": [
    "public record Person(string Name, int Age, string[] addresses);\n",
    "\n",
    "var addresses1 = new [] { \"abc\", \"def\" };\n",
    "var addresses2 = new [] { \"abc\", \"def\" };\n",
    "\n",
    "var p1 = new Person(\"Abc\", 10, addresses1);\n",
    "var p2 = new Person(\"Abc\", 10, addresses2);\n",
    "\n",
    "WriteLine($\"p1: {p1}, addresses: {String.Join(\", \", p1.addresses)}\");\n",
    "WriteLine($\"p2: {p2}, addresses: {String.Join(\", \", p2.addresses)}\");\n",
    "WriteLine($\"p1 == p2 (when same data for addresses): {p1 == p2}\");\n",
    "\n",
    "var diffAddresses = new [] { \"def\", \"ghi\" };\n",
    "var p3 = p2 with { addresses = diffAddresses };\n",
    "\n",
    "WriteLine();\n",
    "WriteLine($\"p3: {p3}, addresses: {String.Join(\", \", p3.addresses)}\");\n",
    "WriteLine($\"p1 == p3 (when different data for addresses): {p1 == p3}\");"
   ]
  },
  {
   "cell_type": "markdown",
   "metadata": {},
   "source": [
    "### And what about this?"
   ]
  },
  {
   "cell_type": "code",
   "execution_count": 8,
   "metadata": {
    "dotnet_interactive": {
     "language": "csharp"
    },
    "polyglot_notebook": {
     "kernelName": "csharp"
    }
   },
   "outputs": [
    {
     "name": "stdout",
     "output_type": "stream",
     "text": [
      "s1: Student { Name = Abc, Age = 10, addresses = System.Collections.Generic.List`1[System.String] }\n",
      "s1 == s2 (when same data for addresses): False\n",
      "\n",
      "s3: Student { Name = Abc, Age = 10, addresses = System.Collections.Generic.List`1[System.String] }\n",
      "s1 == s3 (when different data for addresses): False\n"
     ]
    }
   ],
   "source": [
    "public record Student(string Name, int Age, List<string> addresses);\n",
    "\n",
    "List<string> addresses1 = new() { \"abc\", \"def\" };\n",
    "List<string> addresses2 = new() { \"abc\", \"def\" };\n",
    "\n",
    "var s1 = new Student(\"Abc\", 10, addresses1);\n",
    "var s2 = new Student(\"Abc\", 10, addresses2);\n",
    "\n",
    "WriteLine($\"s1: {s1}\");\n",
    "WriteLine($\"s1 == s2 (when same data for addresses): {s1 == s2}\");\n",
    "\n",
    "List<string> diffAddresses = new() { \"def\", \"ghi\" };\n",
    "var s3 = s2 with { addresses = diffAddresses };\n",
    "\n",
    "WriteLine();\n",
    "WriteLine($\"s3: {s3}\");\n",
    "WriteLine($\"s1 == s3 (when different data for addresses): {s1 == s3}\");"
   ]
  },
  {
   "cell_type": "markdown",
   "metadata": {},
   "source": [
    "# So neither the value equality works, nor the ToString() works as expected.\n",
    "\n",
    "## What's the solution then?\n",
    "\n",
    "You should try using the [Language-Ext](https://github.com/louthy/language-ext) library."
   ]
  }
 ],
 "metadata": {
  "kernelspec": {
   "display_name": ".NET (C#)",
   "language": "C#",
   "name": ".net-csharp"
  },
  "language_info": {
   "name": "polyglot-notebook"
  },
  "polyglot_notebook": {
   "kernelInfo": {
    "defaultKernelName": "csharp",
    "items": [
     {
      "aliases": [],
      "languageName": "csharp",
      "name": "csharp"
     }
    ]
   }
  }
 },
 "nbformat": 4,
 "nbformat_minor": 2
}
