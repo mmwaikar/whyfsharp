{
 "cells": [
  {
   "cell_type": "markdown",
   "metadata": {},
   "source": [
    "# So let's take a look at immutability."
   ]
  },
  {
   "cell_type": "code",
   "execution_count": 4,
   "metadata": {
    "dotnet_interactive": {
     "language": "csharp"
    },
    "polyglot_notebook": {
     "kernelName": "csharp"
    }
   },
   "outputs": [],
   "source": [
    "using static System.Console;\n",
    "using System.Collections.Generic;"
   ]
  },
  {
   "cell_type": "code",
   "execution_count": 5,
   "metadata": {
    "dotnet_interactive": {
     "language": "csharp"
    },
    "polyglot_notebook": {
     "kernelName": "csharp"
    }
   },
   "outputs": [
    {
     "name": "stdout",
     "output_type": "stream",
     "text": [
      "list: a, b\n",
      "dict: [a, 1], [b, 2]\n"
     ]
    }
   ],
   "source": [
    "var list = new List<string> { \"a\", \"b\" };\n",
    "var dict = new Dictionary<string, int> { {\"a\", 1}, {\"b\", 2} };\n",
    "\n",
    "WriteLine($\"list: {String.Join(\", \", list)}\");\n",
    "WriteLine($\"dict: {String.Join(\", \", dict)}\");"
   ]
  },
  {
   "cell_type": "markdown",
   "metadata": {},
   "source": [
    "### But what if we add elements to these collections?"
   ]
  },
  {
   "cell_type": "code",
   "execution_count": 6,
   "metadata": {
    "dotnet_interactive": {
     "language": "csharp"
    },
    "polyglot_notebook": {
     "kernelName": "csharp"
    }
   },
   "outputs": [
    {
     "name": "stdout",
     "output_type": "stream",
     "text": [
      "list (after adding elements): a, b, c\n",
      "dict (after adding elements): [a, 1], [b, 2], [c, 3]\n"
     ]
    }
   ],
   "source": [
    "list.Add(\"c\");\n",
    "dict.Add(\"c\", 3);\n",
    "\n",
    "WriteLine($\"list (after adding elements): {String.Join(\", \", list)}\");\n",
    "WriteLine($\"dict (after adding elements): {String.Join(\", \", dict)}\");"
   ]
  },
  {
   "cell_type": "markdown",
   "metadata": {},
   "source": [
    "## The collections from the `Language Ext` library are immutable."
   ]
  },
  {
   "cell_type": "code",
   "execution_count": 7,
   "metadata": {
    "dotnet_interactive": {
     "language": "csharp"
    },
    "polyglot_notebook": {
     "kernelName": "csharp"
    }
   },
   "outputs": [
    {
     "data": {
      "text/html": [
       "<div><div></div><div></div><div><strong>Installed Packages</strong><ul><li><span>LanguageExt.Core, 4.4.2</span></li></ul></div></div>"
      ]
     },
     "metadata": {},
     "output_type": "display_data"
    }
   ],
   "source": [
    "#r \"nuget: LanguageExt.Core, 4.4.2\""
   ]
  },
  {
   "cell_type": "code",
   "execution_count": 8,
   "metadata": {
    "dotnet_interactive": {
     "language": "csharp"
    },
    "polyglot_notebook": {
     "kernelName": "csharp"
    }
   },
   "outputs": [],
   "source": [
    "using LanguageExt;\n",
    "using static LanguageExt.Prelude;\n",
    "using static LanguageExt.AtomHashMap;"
   ]
  },
  {
   "cell_type": "code",
   "execution_count": 9,
   "metadata": {
    "dotnet_interactive": {
     "language": "csharp"
    },
    "polyglot_notebook": {
     "kernelName": "csharp"
    }
   },
   "outputs": [
    {
     "name": "stdout",
     "output_type": "stream",
     "text": [
      "iSeq: [1, 2, 3, 4]\n",
      "iList: [1, 2, 3, 4]\n",
      "iMap: [(a: 1), (b: 2)]\n"
     ]
    }
   ],
   "source": [
    "var iSeq = Seq(1, 2, 3, 4);\n",
    "var iList = List(1, 2, 3, 4);\n",
    "var iMap = Map( (\"a\", 1), (\"b\", 2) );\n",
    "\n",
    "WriteLine($\"iSeq: {iSeq}\");\n",
    "WriteLine($\"iList: {iList}\");\n",
    "WriteLine($\"iMap: {iMap}\");"
   ]
  },
  {
   "cell_type": "markdown",
   "metadata": {},
   "source": [
    "### Now what if we add elements to these collections?"
   ]
  },
  {
   "cell_type": "code",
   "execution_count": 10,
   "metadata": {
    "dotnet_interactive": {
     "language": "csharp"
    },
    "polyglot_notebook": {
     "kernelName": "csharp"
    }
   },
   "outputs": [
    {
     "name": "stdout",
     "output_type": "stream",
     "text": [
      "After updating, iSeq: [1, 2, 3, 4], uiSeq: [1, 2, 3, 4, 5]\n",
      "After updating, iList: [1, 2, 3, 4], uiList: [1, 2, 3, 4, 5]\n",
      "After updating, iMap: [(a: 1), (b: 2)], uiMap: [(a: 1), (b: 2), (c: 3)]\n"
     ]
    }
   ],
   "source": [
    "var uiSeq = iSeq.Add(5);\n",
    "var uiList = iList.Add(5);\n",
    "var uiMap = iMap.Add(\"c\", 3);\n",
    "\n",
    "WriteLine($\"After updating, iSeq: {iSeq}, uiSeq: {uiSeq}\");\n",
    "WriteLine($\"After updating, iList: {iList}, uiList: {uiList}\");\n",
    "WriteLine($\"After updating, iMap: {iMap}, uiMap: {uiMap}\");"
   ]
  },
  {
   "cell_type": "code",
   "execution_count": 11,
   "metadata": {
    "dotnet_interactive": {
     "language": "csharp"
    },
    "polyglot_notebook": {
     "kernelName": "csharp"
    }
   },
   "outputs": [],
   "source": [
    "public record Student(string Name, int Age, Seq<string> addresses);"
   ]
  },
  {
   "cell_type": "code",
   "execution_count": 12,
   "metadata": {
    "dotnet_interactive": {
     "language": "csharp"
    },
    "polyglot_notebook": {
     "kernelName": "csharp"
    }
   },
   "outputs": [
    {
     "name": "stdout",
     "output_type": "stream",
     "text": [
      "s1: Student { Name = Abc, Age = 10, addresses = [abc, def] }\n",
      "s1 == s2 (when same data for addresses): True\n",
      "s3: Student { Name = Abc, Age = 10, addresses = [def, ghi] }\n",
      "s1 == s3 (when different data for addresses): False\n"
     ]
    }
   ],
   "source": [
    "var addresses = Seq(\"abc\", \"def\");\n",
    "\n",
    "var s1 = new Student(\"Abc\", 10, addresses);\n",
    "var s2 = new Student(\"Abc\", 10, addresses);\n",
    "\n",
    "WriteLine($\"s1: {s1}\");\n",
    "WriteLine($\"s1 == s2 (when same data for addresses): {s1 == s2}\");\n",
    "\n",
    "var diffAddresses = Seq(\"def\", \"ghi\");\n",
    "var s3 = s2 with { addresses = diffAddresses };\n",
    "\n",
    "WriteLine($\"s3: {s3}\");\n",
    "WriteLine($\"s1 == s3 (when different data for addresses): {s1 == s3}\");"
   ]
  },
  {
   "cell_type": "markdown",
   "metadata": {},
   "source": [
    "### So as you see above, these collections -\n",
    "\n",
    "- are immutable\n",
    "- have the ToString() implemented correctly\n",
    "- and give us correct value equality"
   ]
  }
 ],
 "metadata": {
  "kernelspec": {
   "display_name": ".NET (C#)",
   "language": "C#",
   "name": ".net-csharp"
  },
  "language_info": {
   "name": "polyglot-notebook"
  },
  "polyglot_notebook": {
   "kernelInfo": {
    "defaultKernelName": "csharp",
    "items": [
     {
      "aliases": [],
      "languageName": "csharp",
      "name": "csharp"
     }
    ]
   }
  }
 },
 "nbformat": 4,
 "nbformat_minor": 2
}
