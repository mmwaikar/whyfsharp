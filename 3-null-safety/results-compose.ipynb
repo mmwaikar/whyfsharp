{
 "cells": [
  {
   "attachments": {},
   "cell_type": "markdown",
   "metadata": {
    "dotnet_interactive": {
     "language": "csharp"
    },
    "polyglot_notebook": {
     "kernelName": "csharp"
    }
   },
   "source": [
    "Let's see how to compose two Results values.\n",
    "[Results](https://learn.microsoft.com/en-us/dotnet/fsharp/language-reference/results)\n",
    "\n",
    "The Result type is typically used in monadic error-handling, which is often referred to as [Railway-oriented Programming](https://swlaschin.gitbooks.io/fsharpforfunandprofit/content/posts/recipe-part2.html) within the F# community."
   ]
  },
  {
   "cell_type": "code",
   "execution_count": 8,
   "metadata": {
    "dotnet_interactive": {
     "language": "fsharp"
    },
    "polyglot_notebook": {
     "kernelName": "fsharp"
    },
    "vscode": {
     "languageId": "polyglot-notebook"
    }
   },
   "outputs": [],
   "source": [
    "// Define a simple type which has fields that can be validated\n",
    "type Request =\n",
    "    { Name: string\n",
    "      Email: string }\n",
    "\n",
    "// Define some logic for what defines a valid name.\n",
    "//\n",
    "// Generates a Result which is an Ok if the name validates;\n",
    "// otherwise, it generates a Result which is an Error.\n",
    "let validateName req =\n",
    "    match req.Name with\n",
    "    | null -> Error \"No name found.\"\n",
    "    | \"\" -> Error \"Name is empty.\"\n",
    "    | \"bananas\" -> Error \"Bananas is not a name.\"\n",
    "    | _ -> Ok req\n",
    "\n",
    "// Similarly, define some email validation logic.\n",
    "let validateEmail req =\n",
    "    match req.Email with\n",
    "    | null -> Error \"No email found.\"\n",
    "    | \"\" -> Error \"Email is empty.\"\n",
    "    | s when s.EndsWith(\"bananas.com\") -> Error \"No email from bananas.com is allowed.\"\n",
    "    | _ -> Ok req\n",
    "\n",
    "let validateRequest reqResult =\n",
    "    reqResult\n",
    "    |> Result.bind validateName\n",
    "    |> Result.bind validateEmail\n",
    "\n",
    "let test() =\n",
    "    // Now, create a Request and pattern match on the result.\n",
    "    let req1 = { Name = \"Phillip\"; Email = \"phillip@contoso.biz\" }\n",
    "    let res1 = validateRequest (Ok req1)\n",
    "    match res1 with\n",
    "    | Ok req -> printfn $\"My request was valid! Name: {req.Name}, Email {req.Email}\"  \n",
    "    | Error e -> printfn $\"Error: {e}\"\n",
    "\n",
    "    let req2 = { Name = \"Phillip\"; Email = \"phillip@bananas.com\" }\n",
    "    let res2 = validateRequest (Ok req2)\n",
    "    match res2 with\n",
    "    | Ok req -> printfn $\"My request was valid! Name: {req.Name}, Email {req.Email}\"  \n",
    "    | Error e -> printfn $\"Error: {e}\"\n",
    "\n",
    "    let req3 = { Name = \"\"; Email = \"phillip@bananas.com\" }\n",
    "    let res3 = validateRequest (Ok req3)\n",
    "    match res3 with\n",
    "    | Ok req -> printfn $\"My request was valid! Name: {req.Name}, Email {req.Email}\"  \n",
    "    | Error e -> printfn $\"Error: {e}\""
   ]
  },
  {
   "cell_type": "code",
   "execution_count": 9,
   "metadata": {
    "dotnet_interactive": {
     "language": "fsharp"
    },
    "polyglot_notebook": {
     "kernelName": "fsharp"
    },
    "vscode": {
     "languageId": "polyglot-notebook"
    }
   },
   "outputs": [
    {
     "name": "stdout",
     "output_type": "stream",
     "text": [
      "My request was valid! Name: Phillip, Email phillip@contoso.biz\n",
      "Error: No email from bananas.com is allowed.\n",
      "Error: Name is empty.\n"
     ]
    }
   ],
   "source": [
    "test()"
   ]
  },
  {
   "attachments": {},
   "cell_type": "markdown",
   "metadata": {
    "dotnet_interactive": {
     "language": "fsharp"
    },
    "polyglot_notebook": {
     "kernelName": "fsharp"
    }
   },
   "source": [
    "Notice that for the 3rd request, even though there were 2 errors, only the first one was reported. This is an example of a short circuiting behavior. "
   ]
  }
 ],
 "metadata": {
  "kernelspec": {
   "display_name": ".NET (C#)",
   "language": "C#",
   "name": ".net-csharp"
  },
  "polyglot_notebook": {
   "kernelInfo": {
    "defaultKernelName": "csharp",
    "items": [
     {
      "aliases": [
       "c#",
       "C#"
      ],
      "languageName": "C#",
      "name": "csharp"
     },
     {
      "aliases": [
       "frontend"
      ],
      "name": "vscode"
     },
     {
      "aliases": [],
      "name": ".NET"
     },
     {
      "aliases": [
       "f#",
       "F#"
      ],
      "languageName": "F#",
      "name": "fsharp"
     },
     {
      "aliases": [],
      "languageName": "HTML",
      "name": "html"
     },
     {
      "aliases": [],
      "languageName": "HTTP",
      "name": "http"
     },
     {
      "aliases": [],
      "languageName": "KQL",
      "name": "kql"
     },
     {
      "aliases": [],
      "languageName": "Mermaid",
      "name": "mermaid"
     },
     {
      "aliases": [
       "powershell"
      ],
      "languageName": "PowerShell",
      "name": "pwsh"
     },
     {
      "aliases": [],
      "languageName": "SQL",
      "name": "sql"
     },
     {
      "aliases": [],
      "name": "value"
     }
    ]
   }
  }
 },
 "nbformat": 4,
 "nbformat_minor": 2
}
