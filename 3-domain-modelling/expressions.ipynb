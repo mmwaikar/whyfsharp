{
 "cells": [
  {
   "cell_type": "markdown",
   "metadata": {},
   "source": [
    "In F# (& FP languages), everything is an `expression`, i.e. **it returns a value**."
   ]
  },
  {
   "cell_type": "code",
   "execution_count": 1,
   "metadata": {
    "dotnet_interactive": {
     "language": "fsharp"
    },
    "polyglot_notebook": {
     "kernelName": "fsharp"
    }
   },
   "outputs": [],
   "source": [
    "type Lang = \n",
    "    | Hindi\n",
    "    | Marathi\n",
    "    | English"
   ]
  },
  {
   "cell_type": "markdown",
   "metadata": {},
   "source": [
    "The `if-else` is an expression (which is a statement in OO languages)."
   ]
  },
  {
   "cell_type": "code",
   "execution_count": 3,
   "metadata": {
    "dotnet_interactive": {
     "language": "fsharp"
    },
    "polyglot_notebook": {
     "kernelName": "fsharp"
    }
   },
   "outputs": [],
   "source": [
    "let greet lang =\n",
    "    if (lang = Hindi) then \"Namaste\"\n",
    "    elif (lang = Marathi) then \"Namaskar\"\n",
    "    else \"Hello\""
   ]
  },
  {
   "cell_type": "code",
   "execution_count": 4,
   "metadata": {
    "dotnet_interactive": {
     "language": "fsharp"
    },
    "polyglot_notebook": {
     "kernelName": "fsharp"
    }
   },
   "outputs": [
    {
     "name": "stdout",
     "output_type": "stream",
     "text": [
      "Greeting in Hindi: Namaste, Marathi: Namaskar\n"
     ]
    }
   ],
   "source": [
    "let hindiGreeting = greet Hindi\n",
    "let marathiGreeting = greet Marathi\n",
    "printfn $\"Greeting in Hindi: {hindiGreeting}, Marathi: {marathiGreeting}\""
   ]
  },
  {
   "cell_type": "markdown",
   "metadata": {},
   "source": [
    "*And if you haven't noticed so far*, **the values are immutable**. So you can't reassign a different value to a variable introduced by a let binding."
   ]
  },
  {
   "cell_type": "code",
   "execution_count": 11,
   "metadata": {
    "dotnet_interactive": {
     "language": "fsharp"
    },
    "polyglot_notebook": {
     "kernelName": "fsharp"
    }
   },
   "outputs": [
    {
     "name": "stderr",
     "output_type": "stream",
     "text": [
      "Stopped due to error\n"
     ]
    },
    {
     "ename": "Error",
     "evalue": "input.fsx (1,1)-(1,25) typecheck error This value is not mutable. Consider using the mutable keyword, e.g. 'let mutable hindiGreeting = expression'.",
     "output_type": "error",
     "traceback": [
      "input.fsx (1,1)-(1,25) typecheck error This value is not mutable. Consider using the mutable keyword, e.g. 'let mutable hindiGreeting = expression'."
     ]
    }
   ],
   "source": [
    "// hindiGreeting = \"Hello\" // this is comparing hindiGreeting to the value \"Hello\"\n",
    "\n",
    "hindiGreeting <- \"Hello\"\n",
    "// gives a compilation error => This value is not mutable. Consider using the mutable keyword, e.g. 'let mutable hindiGreeting = expression'."
   ]
  },
  {
   "cell_type": "markdown",
   "metadata": {},
   "source": [
    "Exception handling is also an expression."
   ]
  },
  {
   "cell_type": "code",
   "execution_count": 8,
   "metadata": {
    "dotnet_interactive": {
     "language": "fsharp"
    },
    "polyglot_notebook": {
     "kernelName": "fsharp"
    }
   },
   "outputs": [],
   "source": [
    "let divide1 x y =\n",
    "   try\n",
    "      Ok (x / y)\n",
    "   with\n",
    "      | :? System.DivideByZeroException as ex -> printfn \"Division by zero!\"; Error (ex :> Exception)"
   ]
  },
  {
   "cell_type": "code",
   "execution_count": 9,
   "metadata": {
    "dotnet_interactive": {
     "language": "fsharp"
    },
    "polyglot_notebook": {
     "kernelName": "fsharp"
    }
   },
   "outputs": [
    {
     "name": "stdout",
     "output_type": "stream",
     "text": [
      "Division by zero!\n"
     ]
    }
   ],
   "source": [
    "let result1 = divide1 100 0"
   ]
  }
 ],
 "metadata": {
  "kernelspec": {
   "display_name": ".NET (F#)",
   "language": "F#",
   "name": ".net-fsharp"
  },
  "language_info": {
   "name": "polyglot-notebook"
  },
  "polyglot_notebook": {
   "kernelInfo": {
    "defaultKernelName": "fsharp",
    "items": [
     {
      "aliases": [],
      "languageName": "fsharp",
      "name": "fsharp"
     }
    ]
   }
  }
 },
 "nbformat": 4,
 "nbformat_minor": 2
}
