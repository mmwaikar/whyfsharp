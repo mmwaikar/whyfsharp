{
 "cells": [
  {
   "cell_type": "markdown",
   "metadata": {},
   "source": [
    "# Adaptive data for F#\n",
    "\n",
    "This library provides a simple yet powerful way to write incremental functional computations that can be connected to imperative sources on both input and output."
   ]
  },
  {
   "cell_type": "code",
   "execution_count": null,
   "metadata": {
    "dotnet_interactive": {
     "language": "fsharp"
    },
    "polyglot_notebook": {
     "kernelName": "fsharp"
    }
   },
   "outputs": [
    {
     "data": {
      "text/html": [
       "<div><div></div><div></div><div><strong>Installed Packages</strong><ul><li><span>FSharp.Data.Adaptive, 1.2.13</span></li></ul></div></div>"
      ]
     },
     "metadata": {},
     "output_type": "display_data"
    }
   ],
   "source": [
    "#r \"nuget: FSharp.Data.Adaptive, 1.2.13\""
   ]
  },
  {
   "cell_type": "code",
   "execution_count": null,
   "metadata": {
    "dotnet_interactive": {
     "language": "fsharp"
    },
    "polyglot_notebook": {
     "kernelName": "fsharp"
    }
   },
   "outputs": [],
   "source": [
    "open FSharp.Data.Adaptive"
   ]
  },
  {
   "cell_type": "code",
   "execution_count": null,
   "metadata": {
    "dotnet_interactive": {
     "language": "fsharp"
    },
    "polyglot_notebook": {
     "kernelName": "fsharp"
    }
   },
   "outputs": [],
   "source": [
    "type Country = \n",
    "  | India\n",
    "  | UK\n",
    "  | Spain"
   ]
  },
  {
   "cell_type": "code",
   "execution_count": null,
   "metadata": {
    "dotnet_interactive": {
     "language": "fsharp"
    },
    "polyglot_notebook": {
     "kernelName": "fsharp"
    }
   },
   "outputs": [],
   "source": [
    "let sayHello name (country: Country) =\n",
    "  match country with\n",
    "  | India -> $\"Namaste, {name}\"\n",
    "  | UK -> $\"Hello, {name}\"\n",
    "  | Spain -> $\"Hola, {name}\""
   ]
  },
  {
   "cell_type": "code",
   "execution_count": null,
   "metadata": {
    "dotnet_interactive": {
     "language": "fsharp"
    },
    "polyglot_notebook": {
     "kernelName": "fsharp"
    }
   },
   "outputs": [],
   "source": [
    "let dName = \"Daniel\"\n",
    "let dCountry = UK\n",
    "\n",
    "let mName = \"Manoj\"\n",
    "let mCountry = India\n",
    "\n",
    "let forDaniel = sayHello dName dCountry\n",
    "let forManoj = sayHello mName mCountry"
   ]
  },
  {
   "cell_type": "code",
   "execution_count": null,
   "metadata": {
    "dotnet_interactive": {
     "language": "fsharp"
    },
    "polyglot_notebook": {
     "kernelName": "fsharp"
    }
   },
   "outputs": [],
   "source": [
    "let adaptiveSayHello name country =\n",
    "  AVal.map2 (fun n c -> sayHello n c) name country"
   ]
  },
  {
   "cell_type": "code",
   "execution_count": null,
   "metadata": {
    "dotnet_interactive": {
     "language": "fsharp"
    },
    "polyglot_notebook": {
     "kernelName": "fsharp"
    }
   },
   "outputs": [
    {
     "name": "stdout",
     "output_type": "stream",
     "text": [
      "check value for Daniel: Hello, Daniel\n",
      "check value for Manoj: Namaste, Manoj\n"
     ]
    }
   ],
   "source": [
    "let dNameA = cval \"Daniel\"\n",
    "let dCountryA = cval UK\n",
    "let forDanielA = adaptiveSayHello dNameA dCountryA\n",
    "let outoutForDaniel = AVal.force forDanielA\n",
    "printfn $\"check value for Daniel: {outoutForDaniel}\"\n",
    "\n",
    "let mNameA = cval \"Manoj\"\n",
    "let mCountryA = cval India\n",
    "let forManojA = adaptiveSayHello mNameA mCountryA\n",
    "let outoutForManoj = AVal.force forManojA\n",
    "printfn $\"check value for Manoj: {outoutForManoj}\""
   ]
  },
  {
   "cell_type": "code",
   "execution_count": null,
   "metadata": {
    "dotnet_interactive": {
     "language": "fsharp"
    },
    "polyglot_notebook": {
     "kernelName": "fsharp"
    }
   },
   "outputs": [
    {
     "name": "stdout",
     "output_type": "stream",
     "text": [
      "check value for Daniel: Hola, Daniel\n"
     ]
    }
   ],
   "source": [
    "// if someone changes a value for Daniel\n",
    "transact(fun () -> dCountryA.Value <- Spain)\n",
    "let updatedOutoutForDaniel = AVal.force forDanielA\n",
    "printfn $\"check value for Daniel: {updatedOutoutForDaniel}\""
   ]
  },
  {
   "cell_type": "markdown",
   "metadata": {},
   "source": [
    "This example feels a lot like an Excel calculation, in which *dependent cells get **updated*** whenever *changeable inputs change*. Some important differences are -\n",
    "\n",
    "1. All 'cells' are adaptive values\n",
    "2. 'Cells' are first-class values\n",
    "3. Changeable 'cells' are distinguished from computed\n",
    "4. In the above, each 'cell' gets named explcitly in program code, rather than using implicit naming on a sheet\n",
    "5. Some glue like AVal.map2 is needed to connect cells\n",
    "6. User code is responsible for making changes using transact\n",
    "7. Re-calc happens on-demand as outputs are observed"
   ]
  }
 ],
 "metadata": {
  "kernelspec": {
   "display_name": ".NET (F#)",
   "language": "F#",
   "name": ".net-fsharp"
  },
  "polyglot_notebook": {
   "kernelInfo": {
    "defaultKernelName": "fsharp",
    "items": [
     {
      "aliases": [],
      "languageName": "fsharp",
      "name": "fsharp"
     }
    ]
   }
  }
 },
 "nbformat": 4,
 "nbformat_minor": 2
}
