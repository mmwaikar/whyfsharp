{
 "cells": [
  {
   "cell_type": "markdown",
   "metadata": {
    "dotnet_interactive": {
     "language": "csharp"
    },
    "polyglot_notebook": {
     "kernelName": "csharp"
    }
   },
   "source": [
    "[Fable](https://fable.io/) is a compiler that brings F# into the JavaScript ecosystem."
   ]
  },
  {
   "cell_type": "markdown",
   "metadata": {},
   "source": [
    "[Fable 4](https://fable.io/blog/2022/2022-06-06-Snake_Island_alpha.html) is extending the compilation targets for F# beyond JS, to include languages like **Python, Rust or Dart**."
   ]
  },
  {
   "cell_type": "markdown",
   "metadata": {},
   "source": [
    "C# [Blazor](https://dotnet.microsoft.com/en-us/apps/aspnet/web-apps/blazor) -> Use the power of .NET and C# to build full stack web apps without writing a line of JavaScript (using WebAssembly)."
   ]
  },
  {
   "cell_type": "markdown",
   "metadata": {},
   "source": [
    "[Bolero](https://fsbolero.io/) uses Blazor to bring F# to WebAssembly."
   ]
  },
  {
   "cell_type": "markdown",
   "metadata": {},
   "source": [
    "Using [ML.NET](https://dotnet.microsoft.com/en-us/apps/machinelearning-ai/ml-dotnet), which is *An open source and cross-platform machine learning framework* we can write ML applications in .Net languages (C# & F#)."
   ]
  },
  {
   "cell_type": "markdown",
   "metadata": {},
   "source": [
    "[SciSharp STACK](https://scisharp.github.io/SciSharp/) is another .NET based Open Source Ecosystem for Data Science, Machine Learning and AI, which **brings all major ML / AI Frameworks from Python to .NET**."
   ]
  }
 ],
 "metadata": {
  "kernelspec": {
   "display_name": ".NET (C#)",
   "language": "C#",
   "name": ".net-csharp"
  },
  "polyglot_notebook": {
   "kernelInfo": {
    "defaultKernelName": "csharp",
    "items": [
     {
      "aliases": [],
      "languageName": "csharp",
      "name": "csharp"
     }
    ]
   }
  }
 },
 "nbformat": 4,
 "nbformat_minor": 2
}
