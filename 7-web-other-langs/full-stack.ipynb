{
 "cells": [
  {
   "cell_type": "markdown",
   "metadata": {},
   "source": [
    "# Full Stack F#"
   ]
  },
  {
   "cell_type": "markdown",
   "metadata": {
    "dotnet_interactive": {
     "language": "csharp"
    },
    "polyglot_notebook": {
     "kernelName": "csharp"
    }
   },
   "source": [
    "[Fable](https://fable.io/) is a compiler that brings F# into the JavaScript ecosystem."
   ]
  },
  {
   "cell_type": "markdown",
   "metadata": {},
   "source": [
    "[Fable 4](https://fable.io/blog/2022/2022-06-06-Snake_Island_alpha.html) is extending the compilation targets for F# *beyond JS*, to include languages like **Python, Rust or Dart**."
   ]
  },
  {
   "cell_type": "markdown",
   "metadata": {},
   "source": [
    "C# [Blazor](https://dotnet.microsoft.com/en-us/apps/aspnet/web-apps/blazor) -> Use the power of .NET and C# to build full stack web apps without writing a line of JavaScript (using WebAssembly)."
   ]
  },
  {
   "cell_type": "markdown",
   "metadata": {},
   "source": [
    "[Bolero](https://fsbolero.io/) uses Blazor to bring F# to WebAssembly."
   ]
  },
  {
   "cell_type": "markdown",
   "metadata": {},
   "source": [
    "Using [ML.NET](https://dotnet.microsoft.com/en-us/apps/machinelearning-ai/ml-dotnet), which is *An open source and cross-platform machine learning framework* we can write ML applications in .Net languages (C# & F#)."
   ]
  },
  {
   "cell_type": "markdown",
   "metadata": {},
   "source": [
    "[SciSharp STACK](https://scisharp.github.io/SciSharp/) is another .NET based Open Source Ecosystem for Data Science, Machine Learning and AI, which **brings all major ML / AI Frameworks from Python to .NET**."
   ]
  },
  {
   "cell_type": "markdown",
   "metadata": {},
   "source": [
    "## Other F# features"
   ]
  },
  {
   "cell_type": "markdown",
   "metadata": {},
   "source": [
    "- [Units of Measure](https://learn.microsoft.com/en-us/dotnet/fsharp/language-reference/units-of-measure)\n",
    "\n",
    "    Floating point and signed integer values in F# can have associated units of measure, which are typically used to indicate length, volume, mass, and so on. By using quantities with units, you enable the compiler to verify that arithmetic relationships have the correct units, which helps prevent programming errors.\n",
    "\n",
    "- [Computation Expressions](https://learn.microsoft.com/en-us/dotnet/fsharp/language-reference/computation-expressions)\n",
    "\n",
    "    Computation expressions in F# provide a convenient syntax for writing computations that can be sequenced and combined using control flow constructs and bindings. Depending on the kind of computation expression, they can be thought of as a way to express monads, monoids, monad transformers, and applicative functors. However, unlike other languages (such as do-notation in Haskell), they are not tied to a single abstraction, and do not rely on macros or other forms of metaprogramming to accomplish a convenient and context-sensitive syntax. **You can create custom keywords or DSLs using CEs**."
   ]
  }
 ],
 "metadata": {
  "kernelspec": {
   "display_name": ".NET (C#)",
   "language": "C#",
   "name": ".net-csharp"
  },
  "polyglot_notebook": {
   "kernelInfo": {
    "defaultKernelName": "csharp",
    "items": [
     {
      "aliases": [],
      "languageName": "csharp",
      "name": "csharp"
     }
    ]
   }
  }
 },
 "nbformat": 4,
 "nbformat_minor": 2
}
