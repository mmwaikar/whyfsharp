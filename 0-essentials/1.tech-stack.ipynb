{
 "cells": [
  {
   "cell_type": "markdown",
   "metadata": {},
   "source": [
    "# Tech Stack"
   ]
  },
  {
   "cell_type": "markdown",
   "metadata": {},
   "source": [
    "It's **2023** and I want to use a ***single programming language*** to develop -\n",
    "\n",
    "1. Cross platform UIs (browser, mobile, dekstop)\n",
    "2. REST APIs / Backend applications\n",
    "3. AI / ML applications\n",
    "4. Scripts (similar to bash scripts)"
   ]
  },
  {
   "cell_type": "markdown",
   "metadata": {},
   "source": [
    "## Are you kidding me? Is it even possible? Does any language come close?\n",
    "\n",
    "Yes."
   ]
  },
  {
   "cell_type": "markdown",
   "metadata": {},
   "source": [
    "### Oooh!! Which ones?\n",
    "\n",
    "| Language | Browser | Mobile | Desktop | AI / ML | Scripts |\n",
    "|----------|---------|--------|---------|---------|---------|\n",
    "| C# | [Blazor](https://dotnet.microsoft.com/en-us/apps/aspnet/web-apps/blazor) (using WebAssembly) | [Uno Platform](https://platform.uno/), [Avalonia UI](https://avaloniaui.net/), [MAUI](https://dotnet.microsoft.com/en-us/apps/maui) | Uno, Avalonia, MAUI | [ML.NET](https://dotnet.microsoft.com/en-us/apps/machinelearning-ai/ml-dotnet), [SciSharp STACK](https://scisharp.github.io/SciSharp/) | |\n",
    "| F# | [Fable](https://fable.io/) (JS), [Bolero](https://fsbolero.io/) (using WebAssembly) | [Fabulous](https://fabulous.dev/) | Fabulous| same as above | [Fli](https://github.com/CaptnCodr/Fli) |\n",
    "| Dart | [Flutter](https://flutter.dev/) | Flutter | Flutter | | |"
   ]
  }
 ],
 "metadata": {
  "kernelspec": {
   "display_name": ".NET (F#)",
   "language": "F#",
   "name": ".net-fsharp"
  },
  "language_info": {
   "name": "polyglot-notebook"
  },
  "polyglot_notebook": {
   "kernelInfo": {
    "defaultKernelName": "fsharp",
    "items": [
     {
      "aliases": [],
      "languageName": "fsharp",
      "name": "fsharp"
     }
    ]
   }
  }
 },
 "nbformat": 4,
 "nbformat_minor": 2
}
