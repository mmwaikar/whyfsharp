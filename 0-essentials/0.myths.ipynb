{
 "cells": [
  {
   "cell_type": "markdown",
   "metadata": {
    "dotnet_interactive": {
     "language": "csharp"
    },
    "polyglot_notebook": {
     "kernelName": "csharp"
    }
   },
   "source": [
    "We programmers, tend to live with a few ~~**lies**~~ myths. Let's look at those."
   ]
  },
  {
   "cell_type": "markdown",
   "metadata": {},
   "source": [
    "# Myths"
   ]
  },
  {
   "cell_type": "markdown",
   "metadata": {},
   "source": [
    "| Myth | Verdict |\n",
    "|------|---------|\n",
    "| Any (or all) code has to be written in a file. | You don't need to store experimental / throw-away code. |\n",
    "| Semicolons are needed to end a statement. | **Sorry**, it's called *cancer of semicolons*. 😉 |\n",
    "| In a type safe language, we have to specify types for function arguments, return type etc. | **Sorry again** 😒, hello ML (Meta Language) family of languages. |\n",
    "| `return` keyword is needed to return a value from a function. | Noooo 😭, hello Clojure, F# 👋. Even Scala got it right. |\n",
    "| Reference equality is the default. | 🤦‍♂️ Please, value equality should be the default. |\n",
    "| To consume external data, we need to specify types and / or write serializers / deserializers. | Nope, F# type providers to the rescue. 💪 |\n"
   ]
  },
  {
   "cell_type": "markdown",
   "metadata": {},
   "source": [
    "`ORMs in various languages (Java, C#) are a very famous / useful application of reference equality.`"
   ]
  }
 ],
 "metadata": {
  "kernelspec": {
   "display_name": ".NET (C#)",
   "language": "C#",
   "name": ".net-csharp"
  },
  "polyglot_notebook": {
   "kernelInfo": {
    "defaultKernelName": "csharp",
    "items": [
     {
      "aliases": [],
      "languageName": "csharp",
      "name": "csharp"
     }
    ]
   }
  }
 },
 "nbformat": 4,
 "nbformat_minor": 2
}
