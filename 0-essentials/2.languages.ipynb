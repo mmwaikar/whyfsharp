{
 "cells": [
  {
   "cell_type": "markdown",
   "metadata": {},
   "source": [
    "# Desirable features of a Programming Language"
   ]
  },
  {
   "cell_type": "markdown",
   "metadata": {},
   "source": [
    "- It should have a [REPL](https://en.wikipedia.org/wiki/Read-eval-print_loop) called Read-Eval-Print-Loop. A REPL is an interactive text-based interface for incrementally creating a program, providing it with input, and seeing its output. While historically one usually interacts with a REPL through a terminal, there are also a number of GUI-based REPLs e.g. a Notebook is just a visual REPL. **And, it should be possible for me to experiment with third party libraries in a REPL.**\n",
    "- It should compile to multiple targets (with JS being the secondary target, at the very least)\n",
    "- It should come from a family of languages (e.g. ML, Lisp etc., so when you understand the syntax for one of the languages in the family, you'll understand code written in other languages of the same family)\n",
    "- I should be able to write full-stack / AI / ML applications using the same language"
   ]
  },
  {
   "cell_type": "markdown",
   "metadata": {},
   "source": [
    "#### Other desirable features\n",
    "\n",
    "- I should be able to write a function without wrapping it in a class (Functional Programming)\n",
    "- Value equality should be the default\n",
    "- Type Inference (for a statically typed language)\n",
    "- Discriminated unions (a pack of cards example)\n",
    "- When it comes to building UIs, I want widgets (e.g. Tree, Data Grid etc., no div, p1 business)"
   ]
  },
  {
   "cell_type": "markdown",
   "metadata": {},
   "source": [
    "### Compilation targets of some of the languages\n",
    "\n",
    "| Language | Default Target      | WebAssembly (WASM) | JS | TS | Dart | Python | Rust | C++ (Native) |\n",
    "|----------|---------------------|--------------------|----|----|------|--------|------|--------------|\n",
    "| [F#](https://fsharp.org/) | .Net | [Bolero](https://fsbolero.io/) | [Fable](https://fable.io/) | [Fable](https://fable.io/docs/#available-targets) | Fable | Fable | Fable | |\n",
    "| [Clojure](https://clojure.org/) | JVM | | [ClojureScript](https://clojurescript.org/) | | [ClojureDart](https://github.com/Tensegritics/ClojureDart) | [clj-python](https://github.com/clj-python/libpython-clj) | | [Jank (Clojure on C++)](https://jank-lang.org/) |\n",
    "| [Scala](https://www.scala-lang.org/) | JVM | | [Scala.js](https://www.scala-js.org/) | | | | | [Scala Native](https://scala-native.org/en/stable/) |\n",
    "| [Dart](https://dart.dev/) | Native | | [Dart Web](https://dart.dev/overview#web-platform) | | NA | | | |\n",
    "| [Python](https://www.python.org/) | Native | [Pyodide](https://pyodide.org/en/stable/) | | | | Self | | |"
   ]
  },
  {
   "cell_type": "markdown",
   "metadata": {},
   "source": [
    "### Language families\n",
    "\n",
    "| Family | Languages |\n",
    "|--------|-----------|\n",
    "| Lisp | [Clojure](https://clojure.org/), [Racket](https://racket-lang.org/), [Scheme](https://scheme.com/tspl4/), [Common Lisp](https://common-lisp.net/) |\n",
    "| ML | [F#](https://fsharp.org/), [OCaml](https://ocaml.org/), [ReScript](https://rescript-lang.org/) |\n",
    "| C | C, C++, Java, C#, JS |"
   ]
  }
 ],
 "metadata": {
  "kernelspec": {
   "display_name": ".NET (F#)",
   "language": "F#",
   "name": ".net-fsharp"
  },
  "language_info": {
   "name": "polyglot-notebook"
  },
  "polyglot_notebook": {
   "kernelInfo": {
    "defaultKernelName": "fsharp",
    "items": [
     {
      "aliases": [],
      "languageName": "fsharp",
      "name": "fsharp"
     }
    ]
   }
  }
 },
 "nbformat": 4,
 "nbformat_minor": 2
}
