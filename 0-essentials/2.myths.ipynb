{
 "cells": [
  {
   "cell_type": "markdown",
   "metadata": {
    "dotnet_interactive": {
     "language": "csharp"
    },
    "polyglot_notebook": {
     "kernelName": "csharp"
    }
   },
   "source": [
    "We programmers, tend to live with a few ~~**lies**~~ myths. Let's look at those.\n",
    "\n",
    "**NOTE**: It's not our fault, but most of us learn some C family language as our first language, hence it is ingrained in us."
   ]
  },
  {
   "cell_type": "markdown",
   "metadata": {},
   "source": [
    "# Myths"
   ]
  },
  {
   "cell_type": "markdown",
   "metadata": {},
   "source": [
    "| Myth | Verdict |\n",
    "|------|---------|\n",
    "| Any (or all) code has to be written in a file. | You don't need to store experimental / throw-away code. |\n",
    "| Semicolons are needed to end a statement. | **Sorry**, it's called *cancer of semicolons*. 😉 |\n",
    "| In a type safe language, we have to specify types for function parameters, return type etc. | **Sorry again** 😒, hello ML (Meta Language) family of languages. |\n",
    "| `return` keyword is needed to return a value from a function. | Noooo 😭, hello Clojure, F# 👋. Even Scala got it right. |\n",
    "| Reference equality is the default. | 🤦‍♂️ Please, value equality should be the default. |\n",
    "| To consume external data, we need to specify types and / or write serializers / deserializers. | Nope, F# type providers to the rescue. 💪 |\n"
   ]
  },
  {
   "cell_type": "markdown",
   "metadata": {},
   "source": [
    "`ORMs in various languages (Java, C#) are a very famous / useful application of reference equality.`"
   ]
  },
  {
   "cell_type": "markdown",
   "metadata": {},
   "source": [
    "# Facts\n",
    "\n",
    "It's *fashionable to hate Microsoft*, but **credit** must be given to them for -\n",
    "\n",
    "1. First to bring FP concepts (`map, filter, reduce`) methods to a mainstream programming language, C# through [LINQ](https://en.wikipedia.org/wiki/Language_Integrated_Query) in **2007**\n",
    "2. Creators of the [async/await](https://en.wikipedia.org/wiki/Async/await) pattern (origin was F#, added to C# in 2012, and adopted by *Python, JS, Dart, Kotlin, Rust ...*)"
   ]
  }
 ],
 "metadata": {
  "kernelspec": {
   "display_name": ".NET (C#)",
   "language": "C#",
   "name": ".net-csharp"
  },
  "polyglot_notebook": {
   "kernelInfo": {
    "defaultKernelName": "csharp",
    "items": [
     {
      "aliases": [],
      "languageName": "csharp",
      "name": "csharp"
     }
    ]
   }
  }
 },
 "nbformat": 4,
 "nbformat_minor": 2
}
