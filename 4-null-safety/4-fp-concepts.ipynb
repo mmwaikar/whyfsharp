{
 "cells": [
  {
   "cell_type": "markdown",
   "metadata": {},
   "source": [
    "# FP concepts"
   ]
  },
  {
   "cell_type": "markdown",
   "metadata": {},
   "source": [
    "I've purposefully kept this section minimal, so as not to scare people away and not to turn them away from FP. You've already seen practical applications of all the below concepts, so I just want to make you aware of those."
   ]
  },
  {
   "cell_type": "markdown",
   "metadata": {},
   "source": [
    "## Functors"
   ]
  },
  {
   "cell_type": "markdown",
   "metadata": {},
   "source": [
    "Data structures which have a map / select method are called *Functors*."
   ]
  },
  {
   "cell_type": "markdown",
   "metadata": {},
   "source": [
    "## Monads"
   ]
  },
  {
   "cell_type": "markdown",
   "metadata": {},
   "source": [
    "Data structures **which display the short-circuiting behavior** are called *Monads* (and technically, they should support map-bind / select-selectMany methods)."
   ]
  },
  {
   "cell_type": "markdown",
   "metadata": {},
   "source": [
    "## Applicatives\n"
   ]
  },
  {
   "cell_type": "markdown",
   "metadata": {},
   "source": [
    "Data structures **which display accumulating behavior** are called *Applicatives*."
   ]
  },
  {
   "cell_type": "markdown",
   "metadata": {},
   "source": [
    "# Effect Systems (or the IO Monad)"
   ]
  },
  {
   "cell_type": "markdown",
   "metadata": {},
   "source": [
    "Effect systems were created to get rid of the complexity of combining different monads (or values of different types). So, on the one hand FP languages make life `safer` by introducing different types like Option, Result etc. (or the Reader / Writer monads), but on the other hand, they make life `complicated` because it's difficult to compose these values."
   ]
  },
  {
   "cell_type": "markdown",
   "metadata": {},
   "source": [
    "An IO monad looks like this - `IO[R, E, A]`, where,\n",
    "\n",
    "- **R - Environment type** - the effect requires an environment of type R (which means, say a config file or a DB connection)\n",
    "- **E - Failure type** - the effect may fail with a value of type E\n",
    "- **A - Success Type** - the effect may succeed with a value of type A"
   ]
  },
  {
   "cell_type": "markdown",
   "metadata": {},
   "source": [
    "In Scala, these are implemented as libraries -\n",
    "1. [Cats Effect](https://typelevel.org/cats-effect/)\n",
    "2. [ZIO](https://zio.dev/)"
   ]
  },
  {
   "cell_type": "markdown",
   "metadata": {},
   "source": [
    "Whereas, OCaml 5 has incorporated these into the language itself, in a feature called [Eio - Effects-Based Parallel IO for OCaml](https://github.com/ocaml-multicore/eio)."
   ]
  }
 ],
 "metadata": {
  "kernelspec": {
   "display_name": ".NET (F#)",
   "language": "F#",
   "name": ".net-fsharp"
  },
  "polyglot_notebook": {
   "kernelInfo": {
    "defaultKernelName": "fsharp",
    "items": [
     {
      "aliases": [],
      "languageName": "fsharp",
      "name": "fsharp"
     }
    ]
   }
  }
 },
 "nbformat": 4,
 "nbformat_minor": 2
}
