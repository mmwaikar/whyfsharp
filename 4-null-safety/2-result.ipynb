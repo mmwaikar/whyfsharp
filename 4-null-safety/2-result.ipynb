{
 "cells": [
  {
   "cell_type": "code",
   "execution_count": null,
   "metadata": {
    "dotnet_interactive": {
     "language": "fsharp"
    },
    "polyglot_notebook": {
     "kernelName": "fsharp"
    }
   },
   "outputs": [],
   "source": [
    "#r \"nuget: FsToolkit.ErrorHandling, 4.16.0\""
   ]
  },
  {
   "cell_type": "code",
   "execution_count": null,
   "metadata": {
    "dotnet_interactive": {
     "language": "fsharp"
    },
    "polyglot_notebook": {
     "kernelName": "fsharp"
    }
   },
   "outputs": [],
   "source": [
    "open System\n",
    "open FsToolkit.ErrorHandling"
   ]
  },
  {
   "attachments": {},
   "cell_type": "markdown",
   "metadata": {},
   "source": [
    "Let's see an example of the result data type which can have either of the two values (this is also present in Scala as Either, however *in Scala, the left part is an error, whereas the Right part is Success*). **In F#, the left part is Ok, whereas the right part is Error**."
   ]
  },
  {
   "cell_type": "code",
   "execution_count": null,
   "metadata": {
    "dotnet_interactive": {
     "language": "fsharp"
    },
    "polyglot_notebook": {
     "kernelName": "fsharp"
    }
   },
   "outputs": [],
   "source": [
    "let divide nr dr = \n",
    "  if (dr = 0) then Error(\"Cannot divide by 0.\")\n",
    "  else Ok(nr / dr)"
   ]
  },
  {
   "attachments": {},
   "cell_type": "markdown",
   "metadata": {},
   "source": [
    "The type of the divide function is `int -> int -> Result<int, string>`."
   ]
  },
  {
   "cell_type": "code",
   "execution_count": null,
   "metadata": {
    "dotnet_interactive": {
     "language": "fsharp"
    },
    "polyglot_notebook": {
     "kernelName": "fsharp"
    }
   },
   "outputs": [],
   "source": [
    "let numerator = 4\n",
    "let denominator = 2\n",
    "\n",
    "let okResult = divide numerator denominator\n",
    "let errorResult = divide numerator 0"
   ]
  },
  {
   "attachments": {},
   "cell_type": "markdown",
   "metadata": {},
   "source": [
    "Below is how we pattern match on a result value."
   ]
  },
  {
   "cell_type": "code",
   "execution_count": null,
   "metadata": {
    "dotnet_interactive": {
     "language": "fsharp"
    },
    "polyglot_notebook": {
     "kernelName": "fsharp"
    }
   },
   "outputs": [],
   "source": [
    "match okResult with\n",
    "  | Ok(result) -> printfn $\"The result of dividing {numerator} with {denominator} is: {result}\"\n",
    "  | Error(e) -> printfn $\"Error: {e}\""
   ]
  },
  {
   "cell_type": "code",
   "execution_count": null,
   "metadata": {
    "dotnet_interactive": {
     "language": "fsharp"
    },
    "polyglot_notebook": {
     "kernelName": "fsharp"
    }
   },
   "outputs": [],
   "source": [
    "match errorResult with\n",
    "  | Ok(result) -> printfn $\"The result of dividing {numerator} with {denominator} is: {result}\"\n",
    "  | Error(e) -> printfn $\"Error: {e}\""
   ]
  },
  {
   "attachments": {},
   "cell_type": "markdown",
   "metadata": {},
   "source": [
    "Careful use of Result values also helps us to reduce / eliminate NPEs in the code. **Not just that, it also helps us communicate the cause of the problems.**"
   ]
  },
  {
   "cell_type": "markdown",
   "metadata": {},
   "source": [
    "### Again, you might say that this pattern matching is not a big deal. We could've used the trusted old if-else statement?"
   ]
  },
  {
   "cell_type": "markdown",
   "metadata": {},
   "source": [
    "First, let's see how to get the value of a result safely."
   ]
  },
  {
   "cell_type": "code",
   "execution_count": null,
   "metadata": {
    "dotnet_interactive": {
     "language": "fsharp"
    },
    "polyglot_notebook": {
     "kernelName": "fsharp"
    }
   },
   "outputs": [],
   "source": [
    "let okVal = Result.defaultValue 0 okResult\n",
    "printfn $\"okVal: {okVal}\""
   ]
  },
  {
   "cell_type": "markdown",
   "metadata": {},
   "source": [
    "Or in an idiomatic F# way -"
   ]
  },
  {
   "cell_type": "code",
   "execution_count": null,
   "metadata": {
    "dotnet_interactive": {
     "language": "fsharp"
    },
    "polyglot_notebook": {
     "kernelName": "fsharp"
    }
   },
   "outputs": [],
   "source": [
    "let iokVal = okResult |> Result.defaultValue 0\n",
    "printfn $\"iokVal: {iokVal}\""
   ]
  },
  {
   "cell_type": "markdown",
   "metadata": {},
   "source": [
    "Now, let's see how we can use multiple result values together. Again, this is something which is not possible in C#. But `FsToolkit.ErrorHandling` makes it a walk in the park."
   ]
  },
  {
   "cell_type": "code",
   "execution_count": null,
   "metadata": {
    "dotnet_interactive": {
     "language": "fsharp"
    },
    "polyglot_notebook": {
     "kernelName": "fsharp"
    }
   },
   "outputs": [],
   "source": [
    "let printResult result =\n",
    "    match result with\n",
    "    | Ok i -> printfn $\"The result is: {i}\"\n",
    "    | Error e -> printfn $\"Error: {e}\"\n",
    "\n",
    "let printResultWithErrors (result: Result<'a list, 'b list>) =\n",
    "    match result with\n",
    "    | Ok is -> printfn $\"The result is: {is}\"\n",
    "    | Error es -> printfn $\"Errors: {es}\""
   ]
  },
  {
   "cell_type": "code",
   "execution_count": null,
   "metadata": {
    "dotnet_interactive": {
     "language": "fsharp"
    },
    "polyglot_notebook": {
     "kernelName": "fsharp"
    }
   },
   "outputs": [],
   "source": [
    "let tryParseInt (str: string) =\n",
    "    match Int32.TryParse str with\n",
    "    | (true, i) -> Ok i\n",
    "    | _ -> Error $\"Could not parse string {str} to int.\""
   ]
  },
  {
   "cell_type": "code",
   "execution_count": null,
   "metadata": {
    "dotnet_interactive": {
     "language": "fsharp"
    },
    "polyglot_notebook": {
     "kernelName": "fsharp"
    }
   },
   "outputs": [],
   "source": [
    "let addAllOks = result {\n",
    "    let! x = tryParseInt \"7\"\n",
    "    let! y = tryParseInt \"5\"\n",
    "    let! z = tryParseInt \"2\"\n",
    "    return x + y + z\n",
    "}\n",
    "\n",
    "printResult addAllOks"
   ]
  },
  {
   "cell_type": "markdown",
   "metadata": {},
   "source": [
    "### Equivalent Rust code\n",
    "\n",
    "```rust\n",
    "use std::num::ParseIntError;\n",
    "\n",
    "fn try_parse_int(s: &str) -> Result<i32, ParseIntError> {\n",
    "    s.parse::<i32>()\n",
    "}\n",
    "\n",
    "fn add_all_oks() -> Result<i32, ParseIntError> {\n",
    "    let x = try_parse_int(\"7\")?; // early return if None\n",
    "    let y = try_parse_int(\"5\")?; // early return if None\n",
    "    let z = try_parse_int(\"2\")?; // early return if None\n",
    "    Ok(x + y + z)\n",
    "}\n",
    "```"
   ]
  },
  {
   "cell_type": "code",
   "execution_count": null,
   "metadata": {
    "dotnet_interactive": {
     "language": "fsharp"
    },
    "polyglot_notebook": {
     "kernelName": "fsharp"
    }
   },
   "outputs": [],
   "source": [
    "let addOksWithError = result {\n",
    "    let! x = tryParseInt \"7\"\n",
    "    let! y = tryParseInt \"sad\"\n",
    "    let! z = tryParseInt \"2\"\n",
    "    return x + y + z\n",
    "}\n",
    "\n",
    "printResult addOksWithError"
   ]
  },
  {
   "cell_type": "markdown",
   "metadata": {},
   "source": [
    "If you have a list of string values, and you use the above function, you get a list of result values."
   ]
  },
  {
   "cell_type": "code",
   "execution_count": null,
   "metadata": {
    "dotnet_interactive": {
     "language": "fsharp"
    },
    "polyglot_notebook": {
     "kernelName": "fsharp"
    }
   },
   "outputs": [],
   "source": [
    "let listOfResults =\n",
    "    [\"1\"; \"2\"; \"3\"; \"cannotParse\"]\n",
    "    |> List.map tryParseInt\n",
    "\n",
    "printfn $\"listOfResults (which is of type list<Result<int, string>>):\"\n",
    "listOfResults |> List.iter printResult"
   ]
  },
  {
   "cell_type": "markdown",
   "metadata": {},
   "source": [
    "But what if you want a Result<list<int>, string>? Simple, use `sequenceResultM` method."
   ]
  },
  {
   "cell_type": "code",
   "execution_count": null,
   "metadata": {
    "dotnet_interactive": {
     "language": "fsharp"
    },
    "polyglot_notebook": {
     "kernelName": "fsharp"
    }
   },
   "outputs": [],
   "source": [
    "let resultList = \n",
    "    [\"1\"; \"2\"; \"3\"]\n",
    "    |> List.map tryParseInt\n",
    "    |> List.sequenceResultM\n",
    "\n",
    "printfn $\"resultList (which is of type Result<list<int>, string>):\"\n",
    "printResult resultList"
   ]
  },
  {
   "cell_type": "markdown",
   "metadata": {},
   "source": [
    "But what if one of the values is an error?"
   ]
  },
  {
   "cell_type": "code",
   "execution_count": null,
   "metadata": {
    "dotnet_interactive": {
     "language": "fsharp"
    },
    "polyglot_notebook": {
     "kernelName": "fsharp"
    }
   },
   "outputs": [],
   "source": [
    "let resultList = \n",
    "    [\"1\"; \"foo\"; \"3\"; \"bar\"]\n",
    "    |> List.map tryParseInt\n",
    "    |> List.sequenceResultM\n",
    "\n",
    "printfn $\"resultList (which is of type Result<list<int>, string>):\"\n",
    "printResult resultList"
   ]
  },
  {
   "cell_type": "markdown",
   "metadata": {},
   "source": [
    "*No, but we don't want that*. **We want to see all the errors**. That's where `sequenceResultA` method comes into picture."
   ]
  },
  {
   "cell_type": "markdown",
   "metadata": {},
   "source": [
    "#### You might have guessed that the `M` stands for `Monad` whereas the `A` stands for `Applicative`."
   ]
  },
  {
   "cell_type": "code",
   "execution_count": null,
   "metadata": {
    "dotnet_interactive": {
     "language": "fsharp"
    },
    "polyglot_notebook": {
     "kernelName": "fsharp"
    }
   },
   "outputs": [],
   "source": [
    "let resultListWithAllErrors = \n",
    "    [\"1\"; \"foo\"; \"3\"; \"bar\"]\n",
    "    |> List.map tryParseInt\n",
    "    |> List.sequenceResultA\n",
    "\n",
    "printfn $\"resultListWithAllErrors (which is of type Result<list<int>, list<string>>):\"\n",
    "printResultWithErrors resultListWithAllErrors"
   ]
  }
 ],
 "metadata": {
  "kernelspec": {
   "display_name": ".NET (C#)",
   "language": "C#",
   "name": ".net-csharp"
  },
  "language_info": {
   "name": "polyglot-notebook"
  },
  "polyglot_notebook": {
   "kernelInfo": {
    "defaultKernelName": "csharp",
    "items": [
     {
      "aliases": [],
      "name": ".NET"
     },
     {
      "aliases": [
       "C#",
       "c#"
      ],
      "languageName": "C#",
      "name": "csharp"
     },
     {
      "aliases": [
       "F#",
       "f#"
      ],
      "languageName": "F#",
      "name": "fsharp"
     },
     {
      "aliases": [],
      "languageName": "HTML",
      "name": "html"
     },
     {
      "aliases": [],
      "languageName": "HTTP",
      "name": "http"
     },
     {
      "aliases": [
       "js"
      ],
      "languageName": "JavaScript",
      "name": "javascript"
     },
     {
      "aliases": [],
      "languageName": "KQL",
      "name": "kql"
     },
     {
      "aliases": [],
      "languageName": "Mermaid",
      "name": "mermaid"
     },
     {
      "aliases": [
       "powershell"
      ],
      "languageName": "PowerShell",
      "name": "pwsh"
     },
     {
      "aliases": [],
      "languageName": "SQL",
      "name": "sql"
     },
     {
      "aliases": [],
      "name": "value"
     },
     {
      "aliases": [
       "frontend"
      ],
      "name": "vscode"
     },
     {
      "aliases": [],
      "name": "webview"
     }
    ]
   }
  }
 },
 "nbformat": 4,
 "nbformat_minor": 2
}
