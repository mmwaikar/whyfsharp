{
 "cells": [
  {
   "attachments": {},
   "cell_type": "markdown",
   "metadata": {},
   "source": [
    "Another compelling example of how to compose result values is related to validation. It is taken from the [Results](https://learn.microsoft.com/en-us/dotnet/fsharp/language-reference/results) page, but improved with the use of `FsToolkit.ErrorHandling`.\n",
    "\n",
    "The Result type is typically used in **monadic** error-handling, which is often referred to as [Railway-oriented Programming](https://swlaschin.gitbooks.io/fsharpforfunandprofit/content/posts/recipe-part2.html) within the F# community."
   ]
  },
  {
   "cell_type": "code",
   "execution_count": null,
   "metadata": {
    "dotnet_interactive": {
     "language": "fsharp"
    },
    "polyglot_notebook": {
     "kernelName": "fsharp"
    }
   },
   "outputs": [],
   "source": [
    "#r \"nuget: FsToolkit.ErrorHandling, 4.16.0\""
   ]
  },
  {
   "cell_type": "code",
   "execution_count": null,
   "metadata": {
    "dotnet_interactive": {
     "language": "fsharp"
    },
    "polyglot_notebook": {
     "kernelName": "fsharp"
    }
   },
   "outputs": [],
   "source": [
    "open FsToolkit.ErrorHandling\n",
    "open FsToolkit.ErrorHandling.Operator.Result"
   ]
  },
  {
   "cell_type": "code",
   "execution_count": null,
   "metadata": {
    "dotnet_interactive": {
     "language": "fsharp"
    },
    "polyglot_notebook": {
     "kernelName": "fsharp"
    }
   },
   "outputs": [],
   "source": [
    "let printResult result =\n",
    "    match result with\n",
    "    | Ok i -> printfn $\"The (valid) result is: {i}\"\n",
    "    | Error e -> printfn $\"Error: {e}\""
   ]
  },
  {
   "cell_type": "code",
   "execution_count": null,
   "metadata": {
    "dotnet_interactive": {
     "language": "fsharp"
    },
    "polyglot_notebook": {
     "kernelName": "fsharp"
    }
   },
   "outputs": [],
   "source": [
    "// Define a simple type which has fields that can be validated\n",
    "type Request =\n",
    "    { Name: string\n",
    "      Email: string }\n",
    "\n",
    "// Define some logic for what defines a valid name.\n",
    "//\n",
    "// Generates a Result which is an Ok if the name validates;\n",
    "// otherwise, it generates a Result which is an Error.\n",
    "let validateName req =\n",
    "    match req.Name with\n",
    "    | null -> Error \"No name found.\"\n",
    "    | \"\" -> Error \"Name is empty.\"\n",
    "    | \"bananas\" -> Error \"Bananas is not a name.\"\n",
    "    | _ -> Ok req\n",
    "\n",
    "// Similarly, define some email validation logic.\n",
    "let validateEmail req =\n",
    "    match req.Email with\n",
    "    | null -> Error \"No email found.\"\n",
    "    | \"\" -> Error \"Email is empty.\"\n",
    "    | s when s.EndsWith(\"bananas.com\") -> Error \"No email from bananas.com is allowed.\"\n",
    "    | _ -> Ok req\n",
    "\n",
    "let validateRequest reqResult =\n",
    "    reqResult\n",
    "    |> Result.bind validateName\n",
    "    |> Result.bind validateEmail\n",
    "\n",
    "let test() =\n",
    "    // Now, create a Request and pattern match on the result.\n",
    "    let req1 = { Name = \"Phillip\"; Email = \"phillip@contoso.biz\" }\n",
    "    let res1 = validateRequest (Ok req1)\n",
    "    printResult res1\n",
    "\n",
    "    let req2 = { Name = \"Phillip\"; Email = \"phillip@bananas.com\" }\n",
    "    let res2 = validateRequest (Ok req2)\n",
    "    printResult res2\n",
    "\n",
    "    let req3 = { Name = \"\"; Email = \"phillip@bananas.com\" }\n",
    "    let res3 = validateRequest (Ok req3)\n",
    "    printResult res3"
   ]
  },
  {
   "cell_type": "code",
   "execution_count": null,
   "metadata": {
    "dotnet_interactive": {
     "language": "fsharp"
    },
    "polyglot_notebook": {
     "kernelName": "fsharp"
    }
   },
   "outputs": [],
   "source": [
    "test()"
   ]
  },
  {
   "attachments": {},
   "cell_type": "markdown",
   "metadata": {},
   "source": [
    "Notice that for the 3rd request, even though there were 2 errors, only the first one was reported. This is an example of a short circuiting behavior. So let's see how to get all the errors at once using `FsToolkit's Validation` data type."
   ]
  },
  {
   "cell_type": "code",
   "execution_count": null,
   "metadata": {
    "dotnet_interactive": {
     "language": "fsharp"
    },
    "polyglot_notebook": {
     "kernelName": "fsharp"
    }
   },
   "outputs": [],
   "source": [
    "let validateReqAllErrors req =\n",
    "  validation {\n",
    "    let! nameRequest = validateName req\n",
    "    and! emailRequest = validateEmail req\n",
    "    return req\n",
    "  }"
   ]
  },
  {
   "cell_type": "code",
   "execution_count": null,
   "metadata": {
    "dotnet_interactive": {
     "language": "fsharp"
    },
    "polyglot_notebook": {
     "kernelName": "fsharp"
    }
   },
   "outputs": [],
   "source": [
    "let req4 = { Name = \"\"; Email = \"phillip@bananas.com\" }\n",
    "let res4 = validateReqAllErrors req4\n",
    "match res4 with\n",
    "| Ok req -> printfn $\"My request was valid! Name: {req.Name}, Email {req.Email}\"  \n",
    "| Error e -> printfn $\"Error: {e}\""
   ]
  }
 ],
 "metadata": {
  "kernelspec": {
   "display_name": ".NET (C#)",
   "language": "C#",
   "name": ".net-csharp"
  },
  "language_info": {
   "name": "polyglot-notebook"
  },
  "polyglot_notebook": {
   "kernelInfo": {
    "defaultKernelName": "csharp",
    "items": [
     {
      "aliases": [],
      "name": ".NET"
     },
     {
      "aliases": [
       "C#",
       "c#"
      ],
      "languageName": "C#",
      "name": "csharp"
     },
     {
      "aliases": [
       "F#",
       "f#"
      ],
      "languageName": "F#",
      "name": "fsharp"
     },
     {
      "aliases": [],
      "languageName": "HTML",
      "name": "html"
     },
     {
      "aliases": [],
      "languageName": "HTTP",
      "name": "http"
     },
     {
      "aliases": [
       "js"
      ],
      "languageName": "JavaScript",
      "name": "javascript"
     },
     {
      "aliases": [],
      "languageName": "KQL",
      "name": "kql"
     },
     {
      "aliases": [],
      "languageName": "Mermaid",
      "name": "mermaid"
     },
     {
      "aliases": [
       "powershell"
      ],
      "languageName": "PowerShell",
      "name": "pwsh"
     },
     {
      "aliases": [],
      "languageName": "SQL",
      "name": "sql"
     },
     {
      "aliases": [],
      "name": "value"
     },
     {
      "aliases": [
       "frontend"
      ],
      "name": "vscode"
     },
     {
      "aliases": [],
      "name": "webview"
     }
    ]
   }
  }
 },
 "nbformat": 4,
 "nbformat_minor": 2
}
